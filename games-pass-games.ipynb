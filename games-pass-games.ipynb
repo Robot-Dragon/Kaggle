{
 "cells": [
  {
   "cell_type": "code",
   "execution_count": 1,
   "id": "05f264d4",
   "metadata": {
    "_cell_guid": "b1076dfc-b9ad-4769-8c92-a6c4dae69d19",
    "_uuid": "8f2839f25d086af736a60e9eeb907d3b93b6e0e5",
    "execution": {
     "iopub.execute_input": "2022-10-20T23:31:54.944803Z",
     "iopub.status.busy": "2022-10-20T23:31:54.944315Z",
     "iopub.status.idle": "2022-10-20T23:31:54.963248Z",
     "shell.execute_reply": "2022-10-20T23:31:54.962001Z"
    },
    "papermill": {
     "duration": 0.027495,
     "end_time": "2022-10-20T23:31:54.966370",
     "exception": false,
     "start_time": "2022-10-20T23:31:54.938875",
     "status": "completed"
    },
    "tags": []
   },
   "outputs": [
    {
     "name": "stdout",
     "output_type": "stream",
     "text": [
      "/kaggle/input/xbox-game-pass-games-library/Gamepass_Games_v1.csv\n"
     ]
    }
   ],
   "source": [
    "# This Python 3 environment comes with many helpful analytics libraries installed\n",
    "# It is defined by the kaggle/python Docker image: https://github.com/kaggle/docker-python\n",
    "# For example, here's several helpful packages to load\n",
    "\n",
    "import numpy as np # linear algebra\n",
    "import pandas as pd # data processing, CSV file I/O (e.g. pd.read_csv)\n",
    "\n",
    "# Input data files are available in the read-only \"../input/\" directory\n",
    "# For example, running this (by clicking run or pressing Shift+Enter) will list all files under the input directory\n",
    "\n",
    "import os\n",
    "for dirname, _, filenames in os.walk('/kaggle/input'):\n",
    "    for filename in filenames:\n",
    "        print(os.path.join(dirname, filename))\n",
    "\n",
    "# You can write up to 20GB to the current directory (/kaggle/working/) that gets preserved as output when you create a version using \"Save & Run All\" \n",
    "# You can also write temporary files to /kaggle/temp/, but they won't be saved outside of the current session"
   ]
  },
  {
   "cell_type": "code",
   "execution_count": 2,
   "id": "51e5f894",
   "metadata": {
    "execution": {
     "iopub.execute_input": "2022-10-20T23:31:54.973555Z",
     "iopub.status.busy": "2022-10-20T23:31:54.973152Z",
     "iopub.status.idle": "2022-10-20T23:31:54.990938Z",
     "shell.execute_reply": "2022-10-20T23:31:54.989593Z"
    },
    "papermill": {
     "duration": 0.023997,
     "end_time": "2022-10-20T23:31:54.993562",
     "exception": false,
     "start_time": "2022-10-20T23:31:54.969565",
     "status": "completed"
    },
    "tags": []
   },
   "outputs": [],
   "source": [
    "data = pd.read_csv('/kaggle/input/xbox-game-pass-games-library/Gamepass_Games_v1.csv')"
   ]
  },
  {
   "cell_type": "code",
   "execution_count": 3,
   "id": "e664b0e6",
   "metadata": {
    "execution": {
     "iopub.execute_input": "2022-10-20T23:31:55.000552Z",
     "iopub.status.busy": "2022-10-20T23:31:54.999549Z",
     "iopub.status.idle": "2022-10-20T23:31:55.033229Z",
     "shell.execute_reply": "2022-10-20T23:31:55.031868Z"
    },
    "papermill": {
     "duration": 0.039783,
     "end_time": "2022-10-20T23:31:55.035734",
     "exception": false,
     "start_time": "2022-10-20T23:31:54.995951",
     "status": "completed"
    },
    "tags": []
   },
   "outputs": [
    {
     "data": {
      "text/html": [
       "<div>\n",
       "<style scoped>\n",
       "    .dataframe tbody tr th:only-of-type {\n",
       "        vertical-align: middle;\n",
       "    }\n",
       "\n",
       "    .dataframe tbody tr th {\n",
       "        vertical-align: top;\n",
       "    }\n",
       "\n",
       "    .dataframe thead th {\n",
       "        text-align: right;\n",
       "    }\n",
       "</style>\n",
       "<table border=\"1\" class=\"dataframe\">\n",
       "  <thead>\n",
       "    <tr style=\"text-align: right;\">\n",
       "      <th></th>\n",
       "      <th>GAME</th>\n",
       "      <th>RATIO</th>\n",
       "      <th>GAMERS</th>\n",
       "      <th>COMP %</th>\n",
       "      <th>TIME</th>\n",
       "      <th>RATING</th>\n",
       "      <th>ADDED</th>\n",
       "      <th>True_Achievement</th>\n",
       "      <th>Game_Score</th>\n",
       "    </tr>\n",
       "  </thead>\n",
       "  <tbody>\n",
       "    <tr>\n",
       "      <th>0</th>\n",
       "      <td>Mass Effect Legendary Edition</td>\n",
       "      <td>1.87</td>\n",
       "      <td>84,143</td>\n",
       "      <td>4.1</td>\n",
       "      <td>100-120 hours</td>\n",
       "      <td>4.8</td>\n",
       "      <td>06 Jan 22</td>\n",
       "      <td>5442</td>\n",
       "      <td>2915</td>\n",
       "    </tr>\n",
       "    <tr>\n",
       "      <th>1</th>\n",
       "      <td>The Elder Scrolls V: Skyrim Special Edition</td>\n",
       "      <td>1.97</td>\n",
       "      <td>213,257</td>\n",
       "      <td>8.0</td>\n",
       "      <td>80-100 hours</td>\n",
       "      <td>4.7</td>\n",
       "      <td>15 Dec 20</td>\n",
       "      <td>3055</td>\n",
       "      <td>1550</td>\n",
       "    </tr>\n",
       "  </tbody>\n",
       "</table>\n",
       "</div>"
      ],
      "text/plain": [
       "                                          GAME RATIO   GAMERS  COMP %  \\\n",
       "0                Mass Effect Legendary Edition  1.87   84,143     4.1   \n",
       "1  The Elder Scrolls V: Skyrim Special Edition  1.97  213,257     8.0   \n",
       "\n",
       "            TIME  RATING      ADDED  True_Achievement  Game_Score  \n",
       "0  100-120 hours     4.8  06 Jan 22              5442        2915  \n",
       "1   80-100 hours     4.7  15 Dec 20              3055        1550  "
      ]
     },
     "execution_count": 3,
     "metadata": {},
     "output_type": "execute_result"
    }
   ],
   "source": [
    "data.head(2)"
   ]
  },
  {
   "cell_type": "code",
   "execution_count": 4,
   "id": "c3e198a1",
   "metadata": {
    "execution": {
     "iopub.execute_input": "2022-10-20T23:31:55.042978Z",
     "iopub.status.busy": "2022-10-20T23:31:55.042495Z",
     "iopub.status.idle": "2022-10-20T23:31:55.048886Z",
     "shell.execute_reply": "2022-10-20T23:31:55.047630Z"
    },
    "papermill": {
     "duration": 0.012921,
     "end_time": "2022-10-20T23:31:55.051251",
     "exception": false,
     "start_time": "2022-10-20T23:31:55.038330",
     "status": "completed"
    },
    "tags": []
   },
   "outputs": [
    {
     "name": "stdout",
     "output_type": "stream",
     "text": [
      "Hello world!\n"
     ]
    }
   ],
   "source": [
    "print('Hello world!')"
   ]
  },
  {
   "cell_type": "code",
   "execution_count": null,
   "id": "8d79f194",
   "metadata": {
    "papermill": {
     "duration": 0.002397,
     "end_time": "2022-10-20T23:31:55.056370",
     "exception": false,
     "start_time": "2022-10-20T23:31:55.053973",
     "status": "completed"
    },
    "tags": []
   },
   "outputs": [],
   "source": []
  }
 ],
 "metadata": {
  "kernelspec": {
   "display_name": "Python 3",
   "language": "python",
   "name": "python3"
  },
  "language_info": {
   "codemirror_mode": {
    "name": "ipython",
    "version": 3
   },
   "file_extension": ".py",
   "mimetype": "text/x-python",
   "name": "python",
   "nbconvert_exporter": "python",
   "pygments_lexer": "ipython3",
   "version": "3.7.12"
  },
  "papermill": {
   "default_parameters": {},
   "duration": 11.445662,
   "end_time": "2022-10-20T23:31:55.781945",
   "environment_variables": {},
   "exception": null,
   "input_path": "__notebook__.ipynb",
   "output_path": "__notebook__.ipynb",
   "parameters": {},
   "start_time": "2022-10-20T23:31:44.336283",
   "version": "2.3.4"
  }
 },
 "nbformat": 4,
 "nbformat_minor": 5
}
